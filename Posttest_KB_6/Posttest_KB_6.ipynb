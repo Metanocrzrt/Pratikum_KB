{
 "cells": [
  {
   "cell_type": "markdown",
   "id": "cca40082-b55e-4ffc-9a17-28694ff7a51e",
   "metadata": {},
   "source": [
    "# Posttest 6\n",
    "## Nama : Sancto Metano Crozart\n",
    "## Nim : 2109106112"
   ]
  },
  {
   "cell_type": "code",
   "execution_count": 31,
   "id": "344df481-8261-439a-8cdf-d9825421d7b4",
   "metadata": {},
   "outputs": [],
   "source": [
    "import pandas as pd\n",
    "import numpy as np\n",
    "import tensorflow as tf\n",
    "from sklearn.model_selection import train_test_split\n",
    "from sklearn.preprocessing import StandardScaler\n",
    "from sklearn.metrics import accuracy_score\n",
    "from tensorflow import keras\n",
    "import matplotlib.pyplot as plt"
   ]
  },
  {
   "cell_type": "markdown",
   "id": "22b8dccf-9101-4331-bf3b-ff37b2bbfa6d",
   "metadata": {},
   "source": [
    "# membaca dataset"
   ]
  },
  {
   "cell_type": "code",
   "execution_count": 32,
   "id": "638e6869-7618-46e1-8368-fe350ae7729d",
   "metadata": {},
   "outputs": [
    {
     "data": {
      "text/html": [
       "<div>\n",
       "<style scoped>\n",
       "    .dataframe tbody tr th:only-of-type {\n",
       "        vertical-align: middle;\n",
       "    }\n",
       "\n",
       "    .dataframe tbody tr th {\n",
       "        vertical-align: top;\n",
       "    }\n",
       "\n",
       "    .dataframe thead th {\n",
       "        text-align: right;\n",
       "    }\n",
       "</style>\n",
       "<table border=\"1\" class=\"dataframe\">\n",
       "  <thead>\n",
       "    <tr style=\"text-align: right;\">\n",
       "      <th></th>\n",
       "      <th>Unnamed: 0</th>\n",
       "      <th>Clothing ID</th>\n",
       "      <th>Age</th>\n",
       "      <th>Title</th>\n",
       "      <th>Review Text</th>\n",
       "      <th>Rating</th>\n",
       "      <th>Recommended IND</th>\n",
       "      <th>Positive Feedback Count</th>\n",
       "      <th>Division Name</th>\n",
       "      <th>Department Name</th>\n",
       "      <th>Class Name</th>\n",
       "    </tr>\n",
       "  </thead>\n",
       "  <tbody>\n",
       "    <tr>\n",
       "      <th>0</th>\n",
       "      <td>0</td>\n",
       "      <td>767</td>\n",
       "      <td>33</td>\n",
       "      <td>NaN</td>\n",
       "      <td>Absolutely wonderful - silky and sexy and comf...</td>\n",
       "      <td>4</td>\n",
       "      <td>1</td>\n",
       "      <td>0</td>\n",
       "      <td>Initmates</td>\n",
       "      <td>Intimate</td>\n",
       "      <td>Intimates</td>\n",
       "    </tr>\n",
       "    <tr>\n",
       "      <th>1</th>\n",
       "      <td>1</td>\n",
       "      <td>1080</td>\n",
       "      <td>34</td>\n",
       "      <td>NaN</td>\n",
       "      <td>Love this dress!  it's sooo pretty.  i happene...</td>\n",
       "      <td>5</td>\n",
       "      <td>1</td>\n",
       "      <td>4</td>\n",
       "      <td>General</td>\n",
       "      <td>Dresses</td>\n",
       "      <td>Dresses</td>\n",
       "    </tr>\n",
       "    <tr>\n",
       "      <th>2</th>\n",
       "      <td>2</td>\n",
       "      <td>1077</td>\n",
       "      <td>60</td>\n",
       "      <td>Some major design flaws</td>\n",
       "      <td>I had such high hopes for this dress and reall...</td>\n",
       "      <td>3</td>\n",
       "      <td>0</td>\n",
       "      <td>0</td>\n",
       "      <td>General</td>\n",
       "      <td>Dresses</td>\n",
       "      <td>Dresses</td>\n",
       "    </tr>\n",
       "    <tr>\n",
       "      <th>3</th>\n",
       "      <td>3</td>\n",
       "      <td>1049</td>\n",
       "      <td>50</td>\n",
       "      <td>My favorite buy!</td>\n",
       "      <td>I love, love, love this jumpsuit. it's fun, fl...</td>\n",
       "      <td>5</td>\n",
       "      <td>1</td>\n",
       "      <td>0</td>\n",
       "      <td>General Petite</td>\n",
       "      <td>Bottoms</td>\n",
       "      <td>Pants</td>\n",
       "    </tr>\n",
       "    <tr>\n",
       "      <th>4</th>\n",
       "      <td>4</td>\n",
       "      <td>847</td>\n",
       "      <td>47</td>\n",
       "      <td>Flattering shirt</td>\n",
       "      <td>This shirt is very flattering to all due to th...</td>\n",
       "      <td>5</td>\n",
       "      <td>1</td>\n",
       "      <td>6</td>\n",
       "      <td>General</td>\n",
       "      <td>Tops</td>\n",
       "      <td>Blouses</td>\n",
       "    </tr>\n",
       "  </tbody>\n",
       "</table>\n",
       "</div>"
      ],
      "text/plain": [
       "   Unnamed: 0  Clothing ID  Age                    Title  \\\n",
       "0           0          767   33                      NaN   \n",
       "1           1         1080   34                      NaN   \n",
       "2           2         1077   60  Some major design flaws   \n",
       "3           3         1049   50         My favorite buy!   \n",
       "4           4          847   47         Flattering shirt   \n",
       "\n",
       "                                         Review Text  Rating  Recommended IND  \\\n",
       "0  Absolutely wonderful - silky and sexy and comf...       4                1   \n",
       "1  Love this dress!  it's sooo pretty.  i happene...       5                1   \n",
       "2  I had such high hopes for this dress and reall...       3                0   \n",
       "3  I love, love, love this jumpsuit. it's fun, fl...       5                1   \n",
       "4  This shirt is very flattering to all due to th...       5                1   \n",
       "\n",
       "   Positive Feedback Count   Division Name Department Name Class Name  \n",
       "0                        0       Initmates        Intimate  Intimates  \n",
       "1                        4         General         Dresses    Dresses  \n",
       "2                        0         General         Dresses    Dresses  \n",
       "3                        0  General Petite         Bottoms      Pants  \n",
       "4                        6         General            Tops    Blouses  "
      ]
     },
     "execution_count": 32,
     "metadata": {},
     "output_type": "execute_result"
    }
   ],
   "source": [
    "df = pd.read_csv(\"Womens Clothing E-Commerce Reviews.csv\")\n",
    "df.head()"
   ]
  },
  {
   "cell_type": "markdown",
   "id": "87c9f522-1bf8-41ed-be2f-0595a3f9d0ad",
   "metadata": {},
   "source": [
    "## Atribut X dan Y"
   ]
  },
  {
   "cell_type": "code",
   "execution_count": 33,
   "id": "48d24576-b8e5-4fc8-a59d-73e7c1599c8c",
   "metadata": {},
   "outputs": [],
   "source": [
    "X = df[['Age', 'Clothing ID']]\n",
    "y = df['Rating']"
   ]
  },
  {
   "cell_type": "markdown",
   "id": "577403db-7a7e-4371-87a1-0334ffaee549",
   "metadata": {},
   "source": [
    "## Split dataset train dan set"
   ]
  },
  {
   "cell_type": "code",
   "execution_count": 34,
   "id": "556ae71b-5e13-4f94-a603-deef9e5b7bd7",
   "metadata": {},
   "outputs": [],
   "source": [
    "X_train, X_test, y_train, y_test = train_test_split(X, y, test_size=0.2, random_state=42)"
   ]
  },
  {
   "cell_type": "markdown",
   "id": "c6c0a071-7e09-4911-9282-0aef44ad7406",
   "metadata": {},
   "source": [
    "## Melakukan Preprocessing dengan Normalisasi"
   ]
  },
  {
   "cell_type": "code",
   "execution_count": 35,
   "id": "9401dde0-8394-4117-bd34-df1e67d25a85",
   "metadata": {},
   "outputs": [],
   "source": [
    "scaler = StandardScaler()\n",
    "X_train = scaler.fit_transform(X_train)\n",
    "X_test = scaler.transform(X_test)"
   ]
  },
  {
   "cell_type": "markdown",
   "id": "194a6ab3-dbc5-4144-9d37-a1df40fe68b2",
   "metadata": {},
   "source": [
    "## Membangun model Dengan Sequential"
   ]
  },
  {
   "cell_type": "code",
   "execution_count": 36,
   "id": "d8268cc0-611b-48b6-97e3-52c5e95aaf12",
   "metadata": {},
   "outputs": [],
   "source": [
    "model = keras.Sequential([\n",
    "    keras.layers.Dense(64, activation='relu', input_shape=(2,)),\n",
    "    keras.layers.Dense(32, activation='relu'),\n",
    "    keras.layers.Dense(1, activation='sigmoid')  \n",
    "    ])"
   ]
  },
  {
   "cell_type": "markdown",
   "id": "dc7a0955-98a1-4036-88da-3f3528229530",
   "metadata": {},
   "source": [
    "## Compile model"
   ]
  },
  {
   "cell_type": "code",
   "execution_count": 37,
   "id": "2a4cf6e5-a346-45bc-84d7-9f5d9533ceda",
   "metadata": {},
   "outputs": [],
   "source": [
    "model.compile(optimizer='adam', loss='binary_crossentropy', metrics=['accuracy'])"
   ]
  },
  {
   "cell_type": "markdown",
   "id": "4f18fadf-3e6c-48f3-a02d-90cbf776f633",
   "metadata": {},
   "source": [
    "## Melatih Model"
   ]
  },
  {
   "cell_type": "code",
   "execution_count": 38,
   "id": "f6917104-c66a-4678-93e4-9e1c10e7cedc",
   "metadata": {},
   "outputs": [
    {
     "name": "stdout",
     "output_type": "stream",
     "text": [
      "Epoch 1/50\n",
      "529/529 [==============================] - 4s 5ms/step - loss: -1255.3329 - accuracy: 0.0368 - val_loss: -5119.2905 - val_accuracy: 0.0357\n",
      "Epoch 2/50\n",
      "529/529 [==============================] - 2s 4ms/step - loss: -18448.8496 - accuracy: 0.0368 - val_loss: -38628.2656 - val_accuracy: 0.0357\n",
      "Epoch 3/50\n",
      "529/529 [==============================] - 2s 4ms/step - loss: -73747.2344 - accuracy: 0.0368 - val_loss: -118689.7734 - val_accuracy: 0.0357\n",
      "Epoch 4/50\n",
      "529/529 [==============================] - 2s 4ms/step - loss: -180794.2344 - accuracy: 0.0368 - val_loss: -255303.0781 - val_accuracy: 0.0357\n",
      "Epoch 5/50\n",
      "529/529 [==============================] - 2s 4ms/step - loss: -347866.0312 - accuracy: 0.0368 - val_loss: -455621.6562 - val_accuracy: 0.0357\n",
      "Epoch 6/50\n",
      "529/529 [==============================] - 2s 4ms/step - loss: -580429.0625 - accuracy: 0.0368 - val_loss: -723756.2500 - val_accuracy: 0.0357\n",
      "Epoch 7/50\n",
      "529/529 [==============================] - 2s 4ms/step - loss: -882605.9375 - accuracy: 0.0368 - val_loss: -1063986.3750 - val_accuracy: 0.0357\n",
      "Epoch 8/50\n",
      "529/529 [==============================] - 2s 4ms/step - loss: -1258710.7500 - accuracy: 0.0368 - val_loss: -1480695.2500 - val_accuracy: 0.0357\n",
      "Epoch 9/50\n",
      "529/529 [==============================] - 2s 4ms/step - loss: -1712477.8750 - accuracy: 0.0368 - val_loss: -1976786.5000 - val_accuracy: 0.0357\n",
      "Epoch 10/50\n",
      "529/529 [==============================] - 2s 4ms/step - loss: -2247282.0000 - accuracy: 0.0368 - val_loss: -2556596.0000 - val_accuracy: 0.0357\n",
      "Epoch 11/50\n",
      "529/529 [==============================] - 2s 4ms/step - loss: -2867438.2500 - accuracy: 0.0368 - val_loss: -3224260.5000 - val_accuracy: 0.0357\n",
      "Epoch 12/50\n",
      "529/529 [==============================] - 2s 4ms/step - loss: -3577195.0000 - accuracy: 0.0368 - val_loss: -3983580.2500 - val_accuracy: 0.0357\n",
      "Epoch 13/50\n",
      "529/529 [==============================] - 2s 4ms/step - loss: -4380498.0000 - accuracy: 0.0368 - val_loss: -4839387.0000 - val_accuracy: 0.0357\n",
      "Epoch 14/50\n",
      "529/529 [==============================] - 2s 4ms/step - loss: -5281371.5000 - accuracy: 0.0368 - val_loss: -5794740.0000 - val_accuracy: 0.0357\n",
      "Epoch 15/50\n",
      "529/529 [==============================] - 2s 4ms/step - loss: -6284081.0000 - accuracy: 0.0368 - val_loss: -6855058.5000 - val_accuracy: 0.0357\n",
      "Epoch 16/50\n",
      "529/529 [==============================] - 2s 4ms/step - loss: -7392538.5000 - accuracy: 0.0368 - val_loss: -8023116.5000 - val_accuracy: 0.0357\n",
      "Epoch 17/50\n",
      "529/529 [==============================] - 2s 4ms/step - loss: -8610965.0000 - accuracy: 0.0368 - val_loss: -9304505.0000 - val_accuracy: 0.0357\n",
      "Epoch 18/50\n",
      "529/529 [==============================] - 2s 4ms/step - loss: -9945348.0000 - accuracy: 0.0368 - val_loss: -10704492.0000 - val_accuracy: 0.0357\n",
      "Epoch 19/50\n",
      "529/529 [==============================] - 2s 4ms/step - loss: -11398448.0000 - accuracy: 0.0368 - val_loss: -12224975.0000 - val_accuracy: 0.0357\n",
      "Epoch 20/50\n",
      "529/529 [==============================] - 2s 4ms/step - loss: -12974123.0000 - accuracy: 0.0368 - val_loss: -13871507.0000 - val_accuracy: 0.0357\n",
      "Epoch 21/50\n",
      "529/529 [==============================] - 2s 4ms/step - loss: -14676304.0000 - accuracy: 0.0368 - val_loss: -15646984.0000 - val_accuracy: 0.0357\n",
      "Epoch 22/50\n",
      "529/529 [==============================] - 2s 4ms/step - loss: -16510033.0000 - accuracy: 0.0368 - val_loss: -17555798.0000 - val_accuracy: 0.0357\n",
      "Epoch 23/50\n",
      "529/529 [==============================] - 2s 5ms/step - loss: -18479668.0000 - accuracy: 0.0368 - val_loss: -19604628.0000 - val_accuracy: 0.0357\n",
      "Epoch 24/50\n",
      "529/529 [==============================] - 2s 4ms/step - loss: -20588226.0000 - accuracy: 0.0368 - val_loss: -21794652.0000 - val_accuracy: 0.0357\n",
      "Epoch 25/50\n",
      "529/529 [==============================] - 2s 4ms/step - loss: -22840506.0000 - accuracy: 0.0368 - val_loss: -24129066.0000 - val_accuracy: 0.0357\n",
      "Epoch 26/50\n",
      "529/529 [==============================] - 2s 4ms/step - loss: -25241416.0000 - accuracy: 0.0368 - val_loss: -26616728.0000 - val_accuracy: 0.0357\n",
      "Epoch 27/50\n",
      "529/529 [==============================] - 2s 4ms/step - loss: -27794298.0000 - accuracy: 0.0368 - val_loss: -29258652.0000 - val_accuracy: 0.0357\n",
      "Epoch 28/50\n",
      "529/529 [==============================] - 2s 4ms/step - loss: -30502980.0000 - accuracy: 0.0368 - val_loss: -32058494.0000 - val_accuracy: 0.0357\n",
      "Epoch 29/50\n",
      "529/529 [==============================] - 2s 4ms/step - loss: -33369464.0000 - accuracy: 0.0368 - val_loss: -35018128.0000 - val_accuracy: 0.0357\n",
      "Epoch 30/50\n",
      "529/529 [==============================] - 2s 4ms/step - loss: -36401880.0000 - accuracy: 0.0368 - val_loss: -38150352.0000 - val_accuracy: 0.0357\n",
      "Epoch 31/50\n",
      "529/529 [==============================] - 2s 4ms/step - loss: -39601920.0000 - accuracy: 0.0368 - val_loss: -41449052.0000 - val_accuracy: 0.0357\n",
      "Epoch 32/50\n",
      "529/529 [==============================] - 2s 5ms/step - loss: -42973984.0000 - accuracy: 0.0368 - val_loss: -44922880.0000 - val_accuracy: 0.0357\n",
      "Epoch 33/50\n",
      "529/529 [==============================] - 2s 4ms/step - loss: -46524392.0000 - accuracy: 0.0368 - val_loss: -48579756.0000 - val_accuracy: 0.0357\n",
      "Epoch 34/50\n",
      "529/529 [==============================] - 2s 4ms/step - loss: -50256144.0000 - accuracy: 0.0368 - val_loss: -52419168.0000 - val_accuracy: 0.0357\n",
      "Epoch 35/50\n",
      "529/529 [==============================] - 2s 4ms/step - loss: -54169848.0000 - accuracy: 0.0368 - val_loss: -56443088.0000 - val_accuracy: 0.0357\n",
      "Epoch 36/50\n",
      "529/529 [==============================] - 2s 4ms/step - loss: -58271484.0000 - accuracy: 0.0368 - val_loss: -60659588.0000 - val_accuracy: 0.0357\n",
      "Epoch 37/50\n",
      "529/529 [==============================] - 2s 4ms/step - loss: -62568608.0000 - accuracy: 0.0368 - val_loss: -65074976.0000 - val_accuracy: 0.0357\n",
      "Epoch 38/50\n",
      "529/529 [==============================] - 2s 4ms/step - loss: -67059244.0000 - accuracy: 0.0368 - val_loss: -69680888.0000 - val_accuracy: 0.0357\n",
      "Epoch 39/50\n",
      "529/529 [==============================] - 2s 4ms/step - loss: -71750064.0000 - accuracy: 0.0368 - val_loss: -74494184.0000 - val_accuracy: 0.0357\n",
      "Epoch 40/50\n",
      "529/529 [==============================] - 2s 4ms/step - loss: -76645432.0000 - accuracy: 0.0368 - val_loss: -79514712.0000 - val_accuracy: 0.0357\n",
      "Epoch 41/50\n",
      "529/529 [==============================] - 2s 4ms/step - loss: -81748672.0000 - accuracy: 0.0368 - val_loss: -84745568.0000 - val_accuracy: 0.0357\n",
      "Epoch 42/50\n",
      "529/529 [==============================] - 2s 4ms/step - loss: -87066888.0000 - accuracy: 0.0368 - val_loss: -90195800.0000 - val_accuracy: 0.0357\n",
      "Epoch 43/50\n",
      "529/529 [==============================] - 2s 4ms/step - loss: -92598952.0000 - accuracy: 0.0368 - val_loss: -95859168.0000 - val_accuracy: 0.0357\n",
      "Epoch 44/50\n",
      "529/529 [==============================] - 2s 4ms/step - loss: -98351264.0000 - accuracy: 0.0368 - val_loss: -101751464.0000 - val_accuracy: 0.0357\n",
      "Epoch 45/50\n",
      "529/529 [==============================] - 2s 5ms/step - loss: -104329776.0000 - accuracy: 0.0368 - val_loss: -107869448.0000 - val_accuracy: 0.0357\n",
      "Epoch 46/50\n",
      "529/529 [==============================] - 2s 4ms/step - loss: -110539624.0000 - accuracy: 0.0368 - val_loss: -114219096.0000 - val_accuracy: 0.0357\n",
      "Epoch 47/50\n",
      "529/529 [==============================] - 2s 4ms/step - loss: -116982912.0000 - accuracy: 0.0368 - val_loss: -120808112.0000 - val_accuracy: 0.0357\n",
      "Epoch 48/50\n",
      "529/529 [==============================] - 2s 5ms/step - loss: -123661192.0000 - accuracy: 0.0368 - val_loss: -127632168.0000 - val_accuracy: 0.0357\n",
      "Epoch 49/50\n",
      "529/529 [==============================] - 2s 5ms/step - loss: -130577512.0000 - accuracy: 0.0368 - val_loss: -134700480.0000 - val_accuracy: 0.0357\n",
      "Epoch 50/50\n",
      "529/529 [==============================] - 2s 5ms/step - loss: -137736544.0000 - accuracy: 0.0368 - val_loss: -142014912.0000 - val_accuracy: 0.0357\n"
     ]
    }
   ],
   "source": [
    "history = model.fit(X_train, y_train, epochs=50, batch_size=32, validation_split=0.1)"
   ]
  },
  {
   "cell_type": "markdown",
   "id": "7702b21f-bdfb-42e3-9f90-7079b89be04e",
   "metadata": {},
   "source": [
    "## model accuracy"
   ]
  },
  {
   "cell_type": "code",
   "execution_count": 39,
   "id": "d5cee715-adec-442a-b02e-e2912563c83d",
   "metadata": {},
   "outputs": [
    {
     "name": "stdout",
     "output_type": "stream",
     "text": [
      "147/147 [==============================] - 1s 3ms/step\n"
     ]
    }
   ],
   "source": [
    "y_pred = (model.predict(X_test) > 0.5).astype(\"int32\")  \n",
    "accuracy = accuracy_score(y_test, y_pred)"
   ]
  },
  {
   "cell_type": "markdown",
   "id": "cc7e045a-8345-4ac3-940d-19c4b976c433",
   "metadata": {},
   "source": [
    "## Grafik Akurasi"
   ]
  },
  {
   "cell_type": "code",
   "execution_count": 40,
   "id": "89215f39-a6ea-4257-a3b6-704e264d776d",
   "metadata": {},
   "outputs": [
    {
     "data": {
      "text/plain": [
       "Text(0.5, 1.0, 'Grafik Akurasi')"
      ]
     },
     "execution_count": 40,
     "metadata": {},
     "output_type": "execute_result"
    },
    {
     "data": {
      "image/png": "[encoded data removed]",
      "text/plain": [
       "<Figure size 1200x400 with 1 Axes>"
      ]
     },
     "metadata": {},
     "output_type": "display_data"
    }
   ],
   "source": [
    "# Membuat grafik pergerakan metrik (akurasi dan loss)\n",
    "plt.figure(figsize=(12, 4))\n",
    "plt.subplot(1, 2, 1)\n",
    "plt.plot(history.history['accuracy'], label='Akurasi Pelatihan')\n",
    "plt.plot(history.history['val_accuracy'], label='Akurasi Validasi')\n",
    "plt.xlabel('Epoch')\n",
    "plt.ylabel('Akurasi')\n",
    "plt.title('Grafik Akurasi')"
   ]
  },
  {
   "cell_type": "markdown",
   "id": "a867c3d2-e6d2-4416-9f0e-fc4f0e861398",
   "metadata": {},
   "source": [
    "## Grafik Loss"
   ]
  },
  {
   "cell_type": "code",
   "execution_count": 41,
   "id": "dc7a3187-65f0-45a8-ac33-58b5b710a995",
   "metadata": {},
   "outputs": [
    {
     "data": {
      "image/png": "[encoded data removed]",
      "text/plain": [
       "<Figure size 640x480 with 1 Axes>"
      ]
     },
     "metadata": {},
     "output_type": "display_data"
    }
   ],
   "source": [
    "plt.subplot(1, 2, 2)\n",
    "plt.plot(history.history['loss'], label='Loss Pelatihan')\n",
    "plt.plot(history.history['val_loss'], label='Loss Validasi')\n",
    "plt.xlabel('Epoch')\n",
    "plt.ylabel('Loss')\n",
    "plt.legend(loc='upper right')\n",
    "plt.title('Grafik Loss')\n",
    "plt.show()"
   ]
  },
  {
   "cell_type": "code",
   "execution_count": 42,
   "id": "c6a26db0-d8a2-434d-8690-5add8ac4b942",
   "metadata": {},
   "outputs": [
    {
     "name": "stdout",
     "output_type": "stream",
     "text": [
      "Akurasi model pada test set 0.032567049808429116\n"
     ]
    }
   ],
   "source": [
    "print(\"Akurasi model pada test set\",accuracy)"
   ]
  },
  {
   "cell_type": "code",
   "execution_count": null,
   "id": "06afa5a6-f722-49b3-a0cf-668d27c60361",
   "metadata": {},
   "outputs": [],
   "source": []
  }
 ],
 "metadata": {
  "kernelspec": {
   "display_name": "Python 3 (ipykernel)",
   "language": "python",
   "name": "python3"
  },
  "language_info": {
   "codemirror_mode": {
    "name": "ipython",
    "version": 3
   },
   "file_extension": ".py",
   "mimetype": "text/x-python",
   "name": "python",
   "nbconvert_exporter": "python",
   "pygments_lexer": "ipython3",
   "version": "3.10.7"
  }
 },
 "nbformat": 4,
 "nbformat_minor": 5
}
